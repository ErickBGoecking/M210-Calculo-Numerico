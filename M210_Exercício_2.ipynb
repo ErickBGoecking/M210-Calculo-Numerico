{
  "cells": [
    {
      "cell_type": "markdown",
      "metadata": {
        "id": "7xZq4ASxMXBi"
      },
      "source": [
        "# TRABALHO M210 / 2022\n",
        "\n",
        "Prof. Yvo\n",
        "\n",
        "Álvaro Breno Prudêncio Brandão - 1302 - GEC\n",
        "\n",
        "Erick Braun Goecking Martins - 1265 - GEC\n",
        "\n",
        "##Orientações: \n",
        "\n",
        "1 - O trabalho deve ser feito em duplas. \n",
        "\n",
        "2 – O ambiente utilizado será o Google Colab. \n",
        "\n",
        "3 – Poderão ser utilizadas bibliotecas específicas. \n",
        "\n",
        "4 – Colocar um campo de texto antes das células que contém as entradas e saídas de dados identificando os dados fornecidos e recebidos do software. \n",
        "\n",
        "5 – Não serão aceitos códigos idênticos entregues por duplas diferentes. \n",
        "\n",
        "6 – Deverá ser entregue um arquivo do tipo IPYNB (exportado pelo Colab) para cada um dos exercícios propostos. \n",
        "\n",
        "7 – A entrega deverá ser feita por meio da tarefa aberta no TEAMS até o limite previsto. Não serão aceitas entregas fora do prazo. \n",
        "\n",
        "8 – Não serão aceitas entregas por chat, e-mail ou qualquer outro meio que não seja via tarefa."
      ]
    },
    {
      "cell_type": "code",
      "execution_count": 59,
      "metadata": {
        "colab": {
          "base_uri": "https://localhost:8080/"
        },
        "id": "OPE1fgSet9Xi",
        "outputId": "2bf83958-7d15-4749-adb8-ead966f4f15b"
      },
      "outputs": [
        {
          "output_type": "stream",
          "name": "stdout",
          "text": [
            "Looking in indexes: https://pypi.org/simple, https://us-python.pkg.dev/colab-wheels/public/simple/\n",
            "Requirement already satisfied: pulp in /usr/local/lib/python3.7/dist-packages (2.6.0)\n"
          ]
        }
      ],
      "source": [
        "import sys\n",
        "!{sys.executable} -m pip install pulp"
      ]
    },
    {
      "cell_type": "markdown",
      "source": [
        "MAX Z = 60x1 + 40x2 + 25x3 + 30x4\n",
        "\n",
        "8x1 + 5x2 + 4x3 + 6x4 <= 8000\n",
        "\n",
        "x1 <= 500\n",
        "\n",
        "x2 <= 500\n",
        "\n",
        "x3 <= 800\n",
        "\n",
        "x4 <= 750\n",
        "\n",
        "x1, x2, x3, x4 >= 0"
      ],
      "metadata": {
        "id": "Skdd1s5_muY8"
      }
    },
    {
      "cell_type": "code",
      "source": [
        "from pulp import *\n",
        "\n",
        "problem = LpProblem('problemaMotor', LpMaximize)\n",
        "\n",
        "x1 = LpVariable(\"Motor 1\", 0)\n",
        "x2 = LpVariable(\"Motor 2\", 0)\n",
        "x3 = LpVariable(\"Motor 3\", 0)\n",
        "x4 = LpVariable(\"Motor 4\", 0)\n",
        "\n",
        "problem += (60*x1 + 40*x2 + 25*x3 + 30*x4)\n",
        "\n",
        "problem += (8*x1 + 5*x2 + 4*x3 + 6*x4 <= 8000 )\n",
        "\n",
        "problem += x1 <= 500\n",
        "problem += x2 <= 500\n",
        "problem += x3 <= 800\n",
        "problem += x4 <= 750\n",
        "\n",
        "problem.solve()\n",
        "\n",
        "print(\"Letra A:\\n\")\n",
        "print(\"Solução ótima:\\n\")\n",
        "for variable in problem.variables():\n",
        "  print (\"%s = %0.1f\" % (variable.name, variable.varValue), \"motores\")\n",
        "\n",
        "print(\"\\nLucro mínimo = \", value(problem.objective), \"\\n\")\n"
      ],
      "metadata": {
        "colab": {
          "base_uri": "https://localhost:8080/"
        },
        "id": "eHinx_3el4kD",
        "outputId": "6101cd57-d82d-46d5-e614-35cfca5032a6"
      },
      "execution_count": 60,
      "outputs": [
        {
          "output_type": "stream",
          "name": "stdout",
          "text": [
            "Letra A:\n",
            "\n",
            "Solução ótima:\n",
            "\n",
            "Motor_1 = 500.0 motores\n",
            "Motor_2 = 500.0 motores\n",
            "Motor_3 = 375.0 motores\n",
            "Motor_4 = 0.0 motores\n",
            "\n",
            "Lucro mínimo =  59375.0 \n",
            "\n"
          ]
        }
      ]
    },
    {
      "cell_type": "code",
      "source": [
        "from pulp import *\n",
        "\n",
        "problem = LpProblem('Exercicio 2', LpMaximize)\n",
        "\n",
        "# variáveis\n",
        "x1 = LpVariable(\"Motor tipo 1\", 0)\n",
        "x2 = LpVariable(\"Motor tipo 2\", 0)\n",
        "x3 = LpVariable(\"Motor tipo 3\", 0)\n",
        "x4 = LpVariable(\"Motor tipo 4\", 0)\n",
        "\n",
        "preco = 40\n",
        "\n",
        "while(variable.varValue == 0):\n",
        "\n",
        "  problem += (60*x1 + preco*x2 + 25*x3 + 30*x4)\n",
        "\n",
        "  problem += (8*x1 + 5*x2 + 4*x3 + 6*x4 <= 8000 )\n",
        "\n",
        "  problem += x1 <= 500\n",
        "  problem += x2 <= 500\n",
        "  problem += x3 <= 800\n",
        "  problem += x4 <= 750\n",
        "\n",
        "  problem.solve()\n",
        "\n",
        "  print(\"Letra B:\\n\")\n",
        "\n",
        "  for variable in problem.variables():\n",
        "    print (\"%s = %0.1f\" % (variable.name, variable.varValue))\n",
        "    \n",
        "  preco = preco - 1\n",
        "  print (\"Preço mínimo motor 2: R$\" , (preco))"
      ],
      "metadata": {
        "id": "dnUt8rR3nMdb",
        "colab": {
          "base_uri": "https://localhost:8080/"
        },
        "outputId": "3261dabb-26c7-41bc-e8b3-aabe4ef3c4db"
      },
      "execution_count": 61,
      "outputs": [
        {
          "output_type": "stream",
          "name": "stderr",
          "text": [
            "/usr/local/lib/python3.7/dist-packages/pulp/pulp.py:1352: UserWarning: Spaces are not permitted in the name. Converted to '_'\n",
            "  warnings.warn(\"Spaces are not permitted in the name. Converted to '_'\")\n",
            "/usr/local/lib/python3.7/dist-packages/pulp/pulp.py:1704: UserWarning: Overwriting previously set objective.\n",
            "  warnings.warn(\"Overwriting previously set objective.\")\n"
          ]
        },
        {
          "output_type": "stream",
          "name": "stdout",
          "text": [
            "Letra B:\n",
            "\n",
            "Motor_tipo_1 = 500.0\n",
            "Motor_tipo_2 = 500.0\n",
            "Motor_tipo_3 = 375.0\n",
            "Motor_tipo_4 = 0.0\n",
            "Preço mínimo motor 2: R$ 39\n",
            "Letra B:\n",
            "\n",
            "Motor_tipo_1 = 500.0\n",
            "Motor_tipo_2 = 500.0\n",
            "Motor_tipo_3 = 375.0\n",
            "Motor_tipo_4 = 0.0\n",
            "Preço mínimo motor 2: R$ 38\n",
            "Letra B:\n",
            "\n",
            "Motor_tipo_1 = 500.0\n",
            "Motor_tipo_2 = 500.0\n",
            "Motor_tipo_3 = 375.0\n",
            "Motor_tipo_4 = 0.0\n",
            "Preço mínimo motor 2: R$ 37\n",
            "Letra B:\n",
            "\n",
            "Motor_tipo_1 = 500.0\n",
            "Motor_tipo_2 = 500.0\n",
            "Motor_tipo_3 = 375.0\n",
            "Motor_tipo_4 = 0.0\n",
            "Preço mínimo motor 2: R$ 36\n",
            "Letra B:\n",
            "\n",
            "Motor_tipo_1 = 500.0\n",
            "Motor_tipo_2 = 500.0\n",
            "Motor_tipo_3 = 375.0\n",
            "Motor_tipo_4 = 0.0\n",
            "Preço mínimo motor 2: R$ 35\n",
            "Letra B:\n",
            "\n",
            "Motor_tipo_1 = 500.0\n",
            "Motor_tipo_2 = 500.0\n",
            "Motor_tipo_3 = 375.0\n",
            "Motor_tipo_4 = 0.0\n",
            "Preço mínimo motor 2: R$ 34\n",
            "Letra B:\n",
            "\n",
            "Motor_tipo_1 = 500.0\n",
            "Motor_tipo_2 = 500.0\n",
            "Motor_tipo_3 = 375.0\n",
            "Motor_tipo_4 = 0.0\n",
            "Preço mínimo motor 2: R$ 33\n",
            "Letra B:\n",
            "\n",
            "Motor_tipo_1 = 500.0\n",
            "Motor_tipo_2 = 500.0\n",
            "Motor_tipo_3 = 375.0\n",
            "Motor_tipo_4 = 0.0\n",
            "Preço mínimo motor 2: R$ 32\n",
            "Letra B:\n",
            "\n",
            "Motor_tipo_1 = 500.0\n",
            "Motor_tipo_2 = 500.0\n",
            "Motor_tipo_3 = 375.0\n",
            "Motor_tipo_4 = 0.0\n",
            "Preço mínimo motor 2: R$ 31\n",
            "Letra B:\n",
            "\n",
            "Motor_tipo_1 = 500.0\n",
            "Motor_tipo_2 = 160.0\n",
            "Motor_tipo_3 = 800.0\n",
            "Motor_tipo_4 = 0.0\n",
            "Preço mínimo motor 2: R$ 30\n",
            "Letra B:\n",
            "\n",
            "Motor_tipo_1 = 500.0\n",
            "Motor_tipo_2 = 160.0\n",
            "Motor_tipo_3 = 800.0\n",
            "Motor_tipo_4 = 0.0\n",
            "Preço mínimo motor 2: R$ 29\n",
            "Letra B:\n",
            "\n",
            "Motor_tipo_1 = 500.0\n",
            "Motor_tipo_2 = 160.0\n",
            "Motor_tipo_3 = 800.0\n",
            "Motor_tipo_4 = 0.0\n",
            "Preço mínimo motor 2: R$ 28\n",
            "Letra B:\n",
            "\n",
            "Motor_tipo_1 = 500.0\n",
            "Motor_tipo_2 = 160.0\n",
            "Motor_tipo_3 = 800.0\n",
            "Motor_tipo_4 = 0.0\n",
            "Preço mínimo motor 2: R$ 27\n",
            "Letra B:\n",
            "\n",
            "Motor_tipo_1 = 500.0\n",
            "Motor_tipo_2 = 160.0\n",
            "Motor_tipo_3 = 800.0\n",
            "Motor_tipo_4 = 0.0\n",
            "Preço mínimo motor 2: R$ 26\n",
            "Letra B:\n",
            "\n",
            "Motor_tipo_1 = 500.0\n",
            "Motor_tipo_2 = 160.0\n",
            "Motor_tipo_3 = 800.0\n",
            "Motor_tipo_4 = 0.0\n",
            "Preço mínimo motor 2: R$ 25\n",
            "Letra B:\n",
            "\n",
            "Motor_tipo_1 = 500.0\n",
            "Motor_tipo_2 = 0.0\n",
            "Motor_tipo_3 = 800.0\n",
            "Motor_tipo_4 = 133.3\n",
            "Preço mínimo motor 2: R$ 24\n"
          ]
        }
      ]
    },
    {
      "cell_type": "code",
      "source": [
        "from pulp import *\n",
        "\n",
        "problem2 = LpProblem('problema2Motor', LpMaximize)\n",
        "\n",
        "problem2 += (60*x1*0.75 + 40*x2*0.75 + 25*x3*0.75 + 30*x4*0.75)\n",
        "\n",
        "problem2 += (8*x1 + 5*x2 + 4*x3 + 6*x4 <= 8000 )\n",
        "\n",
        "problem2 += x1 <= 500\n",
        "problem2 += x2 <= 500\n",
        "problem2 += x3 <= 800\n",
        "problem2 += x4 <= 750\n",
        "\n",
        "problem.solve()\n",
        "\n",
        "print(\"Letra C:\\n\")\n",
        "print(\"Solução ótima (preças):\\n\")\n",
        "for variable in problem2.variables():\n",
        "  print (\"%s = %0.1f\" % (variable.name, variable.varValue), \"motores\")\n",
        "\n",
        "print(\"\\nA solução ótima permanecerá inalterada, o que mudará será o lucro.\")\n"
      ],
      "metadata": {
        "colab": {
          "base_uri": "https://localhost:8080/"
        },
        "id": "QSWjDG-hs-2Z",
        "outputId": "e7770da4-9ef4-4742-bad7-46a40def745c"
      },
      "execution_count": 62,
      "outputs": [
        {
          "output_type": "stream",
          "name": "stdout",
          "text": [
            "Letra C:\n",
            "\n",
            "Solução ótima (preças):\n",
            "\n",
            "Motor_tipo_1 = 500.0 motores\n",
            "Motor_tipo_2 = 0.0 motores\n",
            "Motor_tipo_3 = 800.0 motores\n",
            "Motor_tipo_4 = 133.3 motores\n",
            "\n",
            "A solução ótima permanecerá inalterada, o que mudará será o lucro.\n"
          ]
        }
      ]
    },
    {
      "cell_type": "code",
      "source": [
        "from pulp import *\n",
        "\n",
        "problem3 = LpProblem('problema3Motor', LpMaximize)\n",
        "\n",
        "problem3 += 60*x1 + 40*x2 + 25*x3 + 30*x4\n",
        "\n",
        "problem3 += 8*x1 + 5*x2 + 4*x3 + 6*x4 <= 8000\n",
        "\n",
        "problem3 += x1 <= 500\n",
        "problem3 += x2 <= 500\n",
        "problem3 += x3 <= 800\n",
        "problem3 += x4 <= 750\n",
        "\n",
        "problem3.solve()\n",
        "\n",
        "print(\"Letra D:\\n\")\n",
        "\n",
        "preco = 30\n",
        "\n",
        "while(variable.varValue == 0):\n",
        " \n",
        " print (\"\\nNumero do aumento do preço 4: R$\" , (preco))\n",
        "\n",
        " problem3 += 60*x1 + 40*x2 + 25*x3 + preco*x4\n",
        "\n",
        " problem3 += 8*x1 + 5*x2 + 4*x3 + 6*x4 <= 8000\n",
        "\n",
        " problem3 += x1 <= 500\n",
        " problem3 += x2 <= 500\n",
        " problem3 += x3 <= 800\n",
        " problem3 += x4 <= 750\n",
        " problem3.solve()\n",
        " \n",
        " for variable in problem3.variables():\n",
        "    print (\"%s = %0.3f\" % (variable.name, variable.varValue))\n",
        "\n",
        " print(\"Lucro máximo = \", value(problem3.objective))\n",
        " preco = preco + 1"
      ],
      "metadata": {
        "colab": {
          "base_uri": "https://localhost:8080/"
        },
        "id": "SD8h_UOiuL49",
        "outputId": "67d04021-93c6-49a6-910f-a96aa7331c7e"
      },
      "execution_count": 63,
      "outputs": [
        {
          "output_type": "stream",
          "name": "stdout",
          "text": [
            "Letra D:\n",
            "\n",
            "\n",
            "Numero do aumento do preço 4: R$ 30\n",
            "Motor_tipo_1 = 500.000\n",
            "Motor_tipo_2 = 500.000\n",
            "Motor_tipo_3 = 375.000\n",
            "Motor_tipo_4 = 0.000\n",
            "Lucro máximo =  59375.0\n",
            "\n",
            "Numero do aumento do preço 4: R$ 31\n",
            "Motor_tipo_1 = 500.000\n",
            "Motor_tipo_2 = 500.000\n",
            "Motor_tipo_3 = 375.000\n",
            "Motor_tipo_4 = 0.000\n",
            "Lucro máximo =  59375.0\n",
            "\n",
            "Numero do aumento do preço 4: R$ 32\n",
            "Motor_tipo_1 = 500.000\n",
            "Motor_tipo_2 = 500.000\n",
            "Motor_tipo_3 = 375.000\n",
            "Motor_tipo_4 = 0.000\n",
            "Lucro máximo =  59375.0\n",
            "\n",
            "Numero do aumento do preço 4: R$ 33\n",
            "Motor_tipo_1 = 500.000\n",
            "Motor_tipo_2 = 500.000\n",
            "Motor_tipo_3 = 375.000\n",
            "Motor_tipo_4 = 0.000\n",
            "Lucro máximo =  59375.0\n",
            "\n",
            "Numero do aumento do preço 4: R$ 34\n",
            "Motor_tipo_1 = 500.000\n",
            "Motor_tipo_2 = 500.000\n",
            "Motor_tipo_3 = 375.000\n",
            "Motor_tipo_4 = 0.000\n",
            "Lucro máximo =  59375.0\n",
            "\n",
            "Numero do aumento do preço 4: R$ 35\n",
            "Motor_tipo_1 = 500.000\n",
            "Motor_tipo_2 = 500.000\n",
            "Motor_tipo_3 = 375.000\n",
            "Motor_tipo_4 = 0.000\n",
            "Lucro máximo =  59375.0\n",
            "\n",
            "Numero do aumento do preço 4: R$ 36\n",
            "Motor_tipo_1 = 500.000\n",
            "Motor_tipo_2 = 500.000\n",
            "Motor_tipo_3 = 375.000\n",
            "Motor_tipo_4 = 0.000\n",
            "Lucro máximo =  59375.0\n",
            "\n",
            "Numero do aumento do preço 4: R$ 37\n",
            "Motor_tipo_1 = 500.000\n",
            "Motor_tipo_2 = 500.000\n",
            "Motor_tipo_3 = 375.000\n",
            "Motor_tipo_4 = 0.000\n",
            "Lucro máximo =  59375.0\n",
            "\n",
            "Numero do aumento do preço 4: R$ 38\n",
            "Motor_tipo_1 = 500.000\n",
            "Motor_tipo_2 = 500.000\n",
            "Motor_tipo_3 = 0.000\n",
            "Motor_tipo_4 = 250.000\n",
            "Lucro máximo =  59500.0\n"
          ]
        },
        {
          "output_type": "stream",
          "name": "stderr",
          "text": [
            "/usr/local/lib/python3.7/dist-packages/pulp/pulp.py:1704: UserWarning: Overwriting previously set objective.\n",
            "  warnings.warn(\"Overwriting previously set objective.\")\n"
          ]
        }
      ]
    }
  ],
  "metadata": {
    "colab": {
      "collapsed_sections": [],
      "name": "M210_Exercício_2.ipynb",
      "provenance": []
    },
    "kernelspec": {
      "display_name": "Python 3",
      "language": "python",
      "name": "python3"
    },
    "language_info": {
      "codemirror_mode": {
        "name": "ipython",
        "version": 3
      },
      "file_extension": ".py",
      "mimetype": "text/x-python",
      "name": "python",
      "nbconvert_exporter": "python",
      "pygments_lexer": "ipython3",
      "version": "3.6.4"
    }
  },
  "nbformat": 4,
  "nbformat_minor": 0
}