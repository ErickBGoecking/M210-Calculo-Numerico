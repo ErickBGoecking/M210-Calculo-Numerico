{
  "nbformat": 4,
  "nbformat_minor": 0,
  "metadata": {
    "colab": {
      "name": "M210 - Exercício 1.ipynb",
      "provenance": []
    },
    "kernelspec": {
      "name": "python3",
      "display_name": "Python 3"
    },
    "language_info": {
      "name": "python"
    }
  },
  "cells": [
    {
      "cell_type": "markdown",
      "source": [
        "# TRABALHO M210 / 2022\n",
        "\n",
        "Prof. Yvo\n",
        "\n",
        "Álvaro Breno Prudêncio Brandão - 1302 - GEC\n",
        "\n",
        "Erick Braun Goecking Martins - 1265 - GEC\n",
        "\n",
        "##Orientações: \n",
        "\n",
        "1 - O trabalho deve ser feito em duplas. \n",
        "\n",
        "2 – O ambiente utilizado será o Google Colab. \n",
        "\n",
        "3 – Poderão ser utilizadas bibliotecas específicas. \n",
        "\n",
        "4 – Colocar um campo de texto antes das células que contém as entradas e saídas de dados identificando os dados fornecidos e recebidos do software. \n",
        "\n",
        "5 – Não serão aceitos códigos idênticos entregues por duplas diferentes. \n",
        "\n",
        "6 – Deverá ser entregue um arquivo do tipo IPYNB (exportado pelo Colab) para cada um dos exercícios propostos. \n",
        "\n",
        "7 – A entrega deverá ser feita por meio da tarefa aberta no TEAMS até o limite previsto. Não serão aceitas entregas fora do prazo. \n",
        "\n",
        "8 – Não serão aceitas entregas por chat, e-mail ou qualquer outro meio que não seja via tarefa."
      ],
      "metadata": {
        "id": "DQ1xKDVwe-GW"
      }
    },
    {
      "cell_type": "code",
      "execution_count": 23,
      "metadata": {
        "colab": {
          "base_uri": "https://localhost:8080/"
        },
        "id": "5ENpZipue9Ao",
        "outputId": "a5e4b75a-1973-42ca-c904-7bccd69dfbec"
      },
      "outputs": [
        {
          "output_type": "stream",
          "name": "stdout",
          "text": [
            "Looking in indexes: https://pypi.org/simple, https://us-python.pkg.dev/colab-wheels/public/simple/\n",
            "Requirement already satisfied: pulp in /usr/local/lib/python3.7/dist-packages (2.6.0)\n"
          ]
        }
      ],
      "source": [
        "import sys\n",
        "!{sys.executable} -m pip install pulp"
      ]
    },
    {
      "cell_type": "markdown",
      "source": [
        "# Letra A\n",
        "\n",
        "Max Z = 40x1 + 32x2 + 35x3 + 36x4\n",
        "\n",
        "x1 + 1.5x2 + 0.75x3 + 1.25x4 <= 650\n",
        "\n",
        "2x1 + 1.5x2 + 2.5x3 + 1.5x4 <= 700\n",
        "\n",
        "1.5x1 + 1.5x2 + 1.25x3 + 1.5x4 <= 700\n",
        "\n",
        "\n",
        "x1, x2, x3, x4 >=0"
      ],
      "metadata": {
        "id": "eSyRDMovhgXB"
      }
    },
    {
      "cell_type": "code",
      "source": [
        "from pulp import *\n",
        "\n",
        "problem = LpProblem('problemaAzeite', LpMaximize)\n",
        "\n",
        "x1 = LpVariable('Azeite 1', 0)\n",
        "x2 = LpVariable('Azeite 2', 0)\n",
        "x3 = LpVariable('Azeite 3', 0)\n",
        "x4 = LpVariable('Azeite 4', 0)\n",
        "\n",
        "problem += 40*x1 + 32*x2 + 35*x3 + 36*x4\n",
        "\n",
        "problem += x1 + 1.5*x2 + 0.75*x3 + 1.25*x4 <= 650\n",
        "problem += 2*x1 + 1.5*x2 + 2.5*x3 + 1.5*x4 <= 700\n",
        "problem += 1.5*x1 + 1.5*x2 + 1.25*x3 + 1.5*x4 <= 700\n",
        "\n",
        "x1, x2, x3, x4 >=0\n",
        "\n",
        "problem.solve()\n",
        "\n",
        "print(\"Letra B:\\n\")\n",
        "print(\"Solução ótima:\")\n",
        "\n",
        "for variable in problem.variables():\n",
        "  print(\"%s = %0.3f\" % (variable.name, variable.varValue))"
      ],
      "metadata": {
        "colab": {
          "base_uri": "https://localhost:8080/"
        },
        "id": "2CYGQfrUgI8P",
        "outputId": "d1fdf31d-947c-42a9-ea3d-b6e464c86f82"
      },
      "execution_count": 24,
      "outputs": [
        {
          "output_type": "stream",
          "name": "stdout",
          "text": [
            "Letra B:\n",
            "\n",
            "Solução ótima:\n",
            "Azeite_1 = 0.000\n",
            "Azeite_2 = 0.000\n",
            "Azeite_3 = 0.000\n",
            "Azeite_4 = 466.667\n"
          ]
        }
      ]
    },
    {
      "cell_type": "code",
      "source": [
        "from pulp import *\n",
        "\n",
        "problem2 = LpProblem('problema2Azeite', LpMaximize)\n",
        "\n",
        "y1 = LpVariable('Azeite 1', 0)\n",
        "y2 = LpVariable('Azeite 2', 0)\n",
        "y3 = LpVariable('Azeite 3', 0)\n",
        "y4 = LpVariable('Azeite 4', 0)\n",
        "\n",
        "problem2 += (40*y1 + 32*y2 + 35*y3 + 36*y4)\n",
        "problem2 += (1*y1 + 1.5*y2 + 0.75*(y3+0.1) + 1.25*(y4+0.05) <= 650)\n",
        "problem2 += (2*y1 + 1.5*y2 + 2.5*(y3+0.1) + 1.5*(y4+0.05) <= 700)\n",
        "problem2 += (1.5*y1 + 1.25*y2 + 1.25*(y3+0.1) + 1.5*(y4+0.05) <= 700)\n",
        "problem2 += (y3 >= 0.1)\n",
        "problem2 += (y4 >= 0.05)\n",
        "\n",
        "problem2.solve()\n",
        "\n",
        "print(\"Letra C:\\n\")\n",
        "print(\"Solução ótima:\")\n",
        "\n",
        "for variable in problem2.variables():\n",
        "  print(\"%s = %0.3f\" % (variable.name, variable.varValue))"
      ],
      "metadata": {
        "colab": {
          "base_uri": "https://localhost:8080/"
        },
        "id": "H4O1OBGpiZNm",
        "outputId": "e8c0901d-4490-4309-a5a7-5a7a11a19c9c"
      },
      "execution_count": 25,
      "outputs": [
        {
          "output_type": "stream",
          "name": "stdout",
          "text": [
            "Letra C:\n",
            "\n",
            "Solução ótima:\n",
            "Azeite_1 = 0.000\n",
            "Azeite_2 = 0.000\n",
            "Azeite_3 = 0.100\n",
            "Azeite_4 = 466.283\n"
          ]
        }
      ]
    },
    {
      "cell_type": "code",
      "source": [
        "from pulp import *\n",
        "\n",
        "problem3 = LpProblem('problema3Azeite', LpMaximize)\n",
        "\n",
        "z1 = LpVariable('Azeite 1', 0)\n",
        "z2 = LpVariable('Azeite 2', 0)\n",
        "z3 = LpVariable('Azeite 3', 0)\n",
        "z4 = LpVariable('Azeite 4', 0)\n",
        "\n",
        "problem3 += (40*z1 + 32*z2 + 35*z3 + 36*z4)\n",
        "problem3 += (1*z1 + 1.5*z2 + 0.75*z3 + 1.25*z4 <= 650)\n",
        "problem3 += (2*z1 + 1.5*z2 + 2.5*z3 + 1.5*z4 <= 700)\n",
        "problem3 += (1.5*z1 + 1.25*z2 + 1.25*z3 + 1.5*z4 <= 700)\n",
        "problem3 += (z3 >= 2.5)\n",
        "problem3 += (z4 >= 2.5)\n",
        "\n",
        "problem3.solve()\n",
        "\n",
        "print(\"Letra D:\\n\")\n",
        "print(\"Solução ótima (mil litros):\\n\")\n",
        "for variable in problem3.variables():\n",
        "  print(\"%s = %0.3f\" % (variable.name, variable.varValue))"
      ],
      "metadata": {
        "colab": {
          "base_uri": "https://localhost:8080/"
        },
        "id": "mpqmNvW0khUn",
        "outputId": "99aaa143-def5-454f-9efc-04f818fac10c"
      },
      "execution_count": 26,
      "outputs": [
        {
          "output_type": "stream",
          "name": "stdout",
          "text": [
            "Letra D:\n",
            "\n",
            "Solução ótima (mil litros):\n",
            "\n",
            "Azeite_1 = 0.000\n",
            "Azeite_2 = 0.000\n",
            "Azeite_3 = 2.500\n",
            "Azeite_4 = 462.500\n"
          ]
        }
      ]
    }
  ]
}